{
  "nbformat": 4,
  "nbformat_minor": 0,
  "metadata": {
    "colab": {
      "provenance": [],
      "authorship_tag": "ABX9TyOR+qVCA5kzMxAltet/l5E0",
      "include_colab_link": true
    },
    "kernelspec": {
      "name": "python3",
      "display_name": "Python 3"
    },
    "language_info": {
      "name": "python"
    }
  },
  "cells": [
    {
      "cell_type": "markdown",
      "metadata": {
        "id": "view-in-github",
        "colab_type": "text"
      },
      "source": [
        "<a href=\"https://colab.research.google.com/github/drustantmetar/DataFrame1/blob/main/Spark_RDDs_with_sparkContext.ipynb\" target=\"_parent\"><img src=\"https://colab.research.google.com/assets/colab-badge.svg\" alt=\"Open In Colab\"/></a>"
      ]
    },
    {
      "cell_type": "markdown",
      "source": [
        "**Practice of RDDs over the spark**"
      ],
      "metadata": {
        "id": "1Wr-LpXSvLT8"
      }
    },
    {
      "cell_type": "code",
      "execution_count": null,
      "metadata": {
        "id": "KX2p6vVUuxVo"
      },
      "outputs": [],
      "source": [
        "# Get the hight rated comedy and drama movie names"
      ]
    },
    {
      "cell_type": "code",
      "source": [
        "# Load the pyspark libraries\n",
        "import pyspark\n",
        "from pyspark.sql import SparkSession  # For the RDDs the SparkSession is must\n",
        "from pyspark.sql.functions import *"
      ],
      "metadata": {
        "id": "webqGe0xvX-v"
      },
      "execution_count": 1,
      "outputs": []
    },
    {
      "cell_type": "code",
      "source": [
        "# create a SparkSession + sparkContext\n",
        "sc : SparkContext = SparkSession\\\n",
        ".builder\\\n",
        ".master(\"local\")\\\n",
        ".appName(\"RDDs over the spark\")\\\n",
        ".getOrCreate()\\\n",
        ".sparkContext"
      ],
      "metadata": {
        "id": "3-3r3FT1vos_"
      },
      "execution_count": 3,
      "outputs": []
    },
    {
      "cell_type": "code",
      "source": [
        "# create Rdds\n",
        "movie=sc.textFile(\"/content/movies.dat\")\n",
        "rating=sc.textFile(\"/content/ratings.dat\")"
      ],
      "metadata": {
        "id": "nwRB0DpHwBP1"
      },
      "execution_count": 6,
      "outputs": []
    },
    {
      "cell_type": "code",
      "source": [
        "# check the smaple data of the movie RDD\n",
        "movie.take(2)"
      ],
      "metadata": {
        "colab": {
          "base_uri": "https://localhost:8080/"
        },
        "id": "tH2v5dF7wcaQ",
        "outputId": "ac960434-5290-43c9-c010-428e22e25363"
      },
      "execution_count": 9,
      "outputs": [
        {
          "output_type": "execute_result",
          "data": {
            "text/plain": [
              "[\"1::Toy Story (1995)::Animation|Children's|Comedy\",\n",
              " \"2::Jumanji (1995)::Adventure|Children's|Fantasy\"]"
            ]
          },
          "metadata": {},
          "execution_count": 9
        }
      ]
    },
    {
      "cell_type": "code",
      "source": [
        "# check the smaple daeta of the rating RDD\n",
        "rating.take(2)"
      ],
      "metadata": {
        "colab": {
          "base_uri": "https://localhost:8080/"
        },
        "id": "Qjo70Nbwwu11",
        "outputId": "4aebd3d7-19ac-404b-f28c-b7664b1fba68"
      },
      "execution_count": 11,
      "outputs": [
        {
          "output_type": "execute_result",
          "data": {
            "text/plain": [
              "['1::1193::5::978300760', '1::661::3::978302109']"
            ]
          },
          "metadata": {},
          "execution_count": 11
        }
      ]
    },
    {
      "cell_type": "code",
      "source": [
        "# Remove / filter the deails from the data sets split it\n",
        "def splitText(myfile):\n",
        "  return myfile.split(\"::\",4)  # 4 is note no of columns will filter"
      ],
      "metadata": {
        "id": "B5CgOTNPw1Gt"
      },
      "execution_count": 12,
      "outputs": []
    },
    {
      "cell_type": "code",
      "source": [
        "# Recreate the Rdd with split the text\n",
        "movie=sc.textFile(\"/content/movies.dat\").map(splitText)\n",
        "rating=sc.textFile(\"/content/ratings.dat\").map(splitText)"
      ],
      "metadata": {
        "id": "CZRkexofxCsp"
      },
      "execution_count": 13,
      "outputs": []
    },
    {
      "cell_type": "code",
      "source": [
        "# check the data it filter or not\n",
        "movie.take(5)\n"
      ],
      "metadata": {
        "colab": {
          "base_uri": "https://localhost:8080/"
        },
        "id": "qhuPzWO-xXbi",
        "outputId": "43c66d3e-4915-4592-8717-73a5d94efb0d"
      },
      "execution_count": 17,
      "outputs": [
        {
          "output_type": "execute_result",
          "data": {
            "text/plain": [
              "[['1', 'Toy Story (1995)', \"Animation|Children's|Comedy\"],\n",
              " ['2', 'Jumanji (1995)', \"Adventure|Children's|Fantasy\"],\n",
              " ['3', 'Grumpier Old Men (1995)', 'Comedy|Romance'],\n",
              " ['4', 'Waiting to Exhale (1995)', 'Comedy|Drama'],\n",
              " ['5', 'Father of the Bride Part II (1995)', 'Comedy']]"
            ]
          },
          "metadata": {},
          "execution_count": 17
        }
      ]
    },
    {
      "cell_type": "code",
      "source": [
        "rating.take(5)"
      ],
      "metadata": {
        "colab": {
          "base_uri": "https://localhost:8080/"
        },
        "id": "SRN4Rowjxus7",
        "outputId": "cc8d7b5e-18a2-4b0b-8c2a-d0fcd6c919af"
      },
      "execution_count": 18,
      "outputs": [
        {
          "output_type": "execute_result",
          "data": {
            "text/plain": [
              "[['1', '1193', '5', '978300760'],\n",
              " ['1', '661', '3', '978302109'],\n",
              " ['1', '914', '3', '978301968'],\n",
              " ['1', '3408', '4', '978300275'],\n",
              " ['1', '2355', '5', '978824291']]"
            ]
          },
          "metadata": {},
          "execution_count": 18
        }
      ]
    },
    {
      "cell_type": "code",
      "source": [
        "# filter the genre from movie Rdd\n",
        "movie.filter(lambda mn : \"Comedy\" in mn).take(2)"
      ],
      "metadata": {
        "colab": {
          "base_uri": "https://localhost:8080/"
        },
        "id": "2goFObJ0ywij",
        "outputId": "b8528e47-e352-4323-e733-34e8c6f86b94"
      },
      "execution_count": 54,
      "outputs": [
        {
          "output_type": "execute_result",
          "data": {
            "text/plain": [
              "[['5', 'Father of the Bride Part II (1995)', 'Comedy'],\n",
              " ['19', 'Ace Ventura: When Nature Calls (1995)', 'Comedy']]"
            ]
          },
          "metadata": {},
          "execution_count": 54
        }
      ]
    },
    {
      "cell_type": "code",
      "source": [
        "# Join the 2 Rdd\n",
        "# Below filter made by me\n",
        "merge=movie.filter(lambda co: \"Comedy\" in co).keyBy(lambda k : k[0]).join(rating.keyBy(lambda k : k[1]))"
      ],
      "metadata": {
        "id": "gZ1qoUOhyYSm"
      },
      "execution_count": 57,
      "outputs": []
    },
    {
      "cell_type": "code",
      "source": [
        "merge.take(2)"
      ],
      "metadata": {
        "colab": {
          "base_uri": "https://localhost:8080/"
        },
        "id": "W7W7gNoQzyH3",
        "outputId": "c5e68bbb-4b20-4a44-8521-95619e7c9106"
      },
      "execution_count": 58,
      "outputs": [
        {
          "output_type": "execute_result",
          "data": {
            "text/plain": [
              "[('5',\n",
              "  (['5', 'Father of the Bride Part II (1995)', 'Comedy'],\n",
              "   ['26', '5', '5', '978144881'])),\n",
              " ('5',\n",
              "  (['5', 'Father of the Bride Part II (1995)', 'Comedy'],\n",
              "   ['48', '5', '3', '978013996']))]"
            ]
          },
          "metadata": {},
          "execution_count": 58
        }
      ]
    },
    {
      "cell_type": "code",
      "source": [
        "# get the result\n",
        "result=merge.groupBy(lambda gbn: gbn[1][0][1])"
      ],
      "metadata": {
        "id": "NMTLumXwzxGz"
      },
      "execution_count": 59,
      "outputs": []
    },
    {
      "cell_type": "code",
      "source": [
        "# Its make a group of the movie name\n",
        "result.take(2)"
      ],
      "metadata": {
        "colab": {
          "base_uri": "https://localhost:8080/"
        },
        "id": "U3SKyuhmxxel",
        "outputId": "ded86fce-b03a-40fd-c3db-a3ffe0d40407"
      },
      "execution_count": 60,
      "outputs": [
        {
          "output_type": "execute_result",
          "data": {
            "text/plain": [
              "[('Father of the Bride Part II (1995)',\n",
              "  <pyspark.resultiterable.ResultIterable at 0x7ace6215e610>),\n",
              " ('Mr. Wrong (1996)',\n",
              "  <pyspark.resultiterable.ResultIterable at 0x7ace337e10d0>)]"
            ]
          },
          "metadata": {},
          "execution_count": 60
        }
      ]
    },
    {
      "cell_type": "code",
      "source": [
        "output=result.map(lambda v:(v[0],len(v[1])))"
      ],
      "metadata": {
        "id": "_bdPfc315dCu"
      },
      "execution_count": 75,
      "outputs": []
    },
    {
      "cell_type": "code",
      "source": [
        "output.take(2)"
      ],
      "metadata": {
        "colab": {
          "base_uri": "https://localhost:8080/"
        },
        "id": "8tiFJvNN5uef",
        "outputId": "5142244c-32f1-457f-de5c-31e7d17d6897"
      },
      "execution_count": 73,
      "outputs": [
        {
          "output_type": "execute_result",
          "data": {
            "text/plain": [
              "[('Father of the Bride Part II (1995)', 296), ('Mr. Wrong (1996)', 60)]"
            ]
          },
          "metadata": {},
          "execution_count": 73
        }
      ]
    },
    {
      "cell_type": "code",
      "source": [
        "myresult=output.max(lambda x:x[1])"
      ],
      "metadata": {
        "id": "h6awlXk06HFf"
      },
      "execution_count": 82,
      "outputs": []
    },
    {
      "cell_type": "code",
      "source": [
        "print(myresult)"
      ],
      "metadata": {
        "colab": {
          "base_uri": "https://localhost:8080/"
        },
        "id": "Cz_NKbQW6eSB",
        "outputId": "58168d6c-c82b-4210-cf5c-59ee0697eebe"
      },
      "execution_count": 120,
      "outputs": [
        {
          "output_type": "stream",
          "name": "stdout",
          "text": [
            "('Being John Malkovich (1999)', 2241)\n"
          ]
        }
      ]
    },
    {
      "cell_type": "markdown",
      "source": [
        "**Take the movie with highest rated who has genre DRAMA.**"
      ],
      "metadata": {
        "id": "yC3_s3pE7QKL"
      }
    },
    {
      "cell_type": "code",
      "source": [
        "#load the libraries\n",
        "import pyspark\n",
        "from pyspark.sql import SparkSession\n",
        "from pyspark.sql.functions import *"
      ],
      "metadata": {
        "id": "bqJSsQ8x7ZlG"
      },
      "execution_count": 84,
      "outputs": []
    },
    {
      "cell_type": "code",
      "source": [
        "# Create a session\n",
        "spark : SparkContext = SparkSession\\\n",
        ".builder\\\n",
        ".master(\"locall\")\\\n",
        ".appName(\"Genre-Drama\")\\\n",
        ".getOrCreate()\\\n",
        ".sparkContext"
      ],
      "metadata": {
        "id": "-FnKfMApIaB6"
      },
      "execution_count": 85,
      "outputs": []
    },
    {
      "cell_type": "code",
      "source": [
        "# write splt string function and clean the data\n",
        "def splitString(file):\n",
        "  return file.split(\"::\",4)"
      ],
      "metadata": {
        "id": "z_H0QspcJWDS"
      },
      "execution_count": 91,
      "outputs": []
    },
    {
      "cell_type": "code",
      "source": [
        "# create Rdd for genre Drama\n",
        "mrdd=spark.textFile(\"/content/movies.dat\").map(splitString)\n",
        "rrdd=spark.textFile(\"/content/ratings.dat\").map(splitString)"
      ],
      "metadata": {
        "id": "2Ji0fa1YI473"
      },
      "execution_count": 92,
      "outputs": []
    },
    {
      "cell_type": "code",
      "source": [
        "mrdd.take(2)"
      ],
      "metadata": {
        "colab": {
          "base_uri": "https://localhost:8080/"
        },
        "id": "xEXqB1Te7Zb-",
        "outputId": "0e11f8f7-3d2e-4532-b064-e4e6651a8191"
      },
      "execution_count": 96,
      "outputs": [
        {
          "output_type": "execute_result",
          "data": {
            "text/plain": [
              "[['1', 'Toy Story (1995)', \"Animation|Children's|Comedy\"],\n",
              " ['2', 'Jumanji (1995)', \"Adventure|Children's|Fantasy\"]]"
            ]
          },
          "metadata": {},
          "execution_count": 96
        }
      ]
    },
    {
      "cell_type": "code",
      "source": [
        "rrdd.take(2)"
      ],
      "metadata": {
        "colab": {
          "base_uri": "https://localhost:8080/"
        },
        "id": "Cy3ZpfDuJRaA",
        "outputId": "ae551a69-11bb-4a9a-89ad-e8f4c262432e"
      },
      "execution_count": 94,
      "outputs": [
        {
          "output_type": "execute_result",
          "data": {
            "text/plain": [
              "[['1', '1193', '5', '978300760'], ['1', '661', '3', '978302109']]"
            ]
          },
          "metadata": {},
          "execution_count": 94
        }
      ]
    },
    {
      "cell_type": "code",
      "source": [
        "# get the drama from move Rdd\n",
        "filterRdd=mrdd.filter(lambda get:\"Drama\" in get)\n",
        "filterRdd.take(2)"
      ],
      "metadata": {
        "colab": {
          "base_uri": "https://localhost:8080/"
        },
        "id": "d9gG54GjJpbY",
        "outputId": "541bf053-6b40-480a-9fa3-340990eb5d1a"
      },
      "execution_count": 98,
      "outputs": [
        {
          "output_type": "execute_result",
          "data": {
            "text/plain": [
              "[['14', 'Nixon (1995)', 'Drama'], ['26', 'Othello (1995)', 'Drama']]"
            ]
          },
          "metadata": {},
          "execution_count": 98
        }
      ]
    },
    {
      "cell_type": "code",
      "source": [
        "# join the Rdd for rating\n",
        "jrdd=filterRdd.keyBy(lambda k:k[0]).join(rrdd.keyBy(lambda k: k[1]))"
      ],
      "metadata": {
        "id": "LTddEtNgKBzO"
      },
      "execution_count": 105,
      "outputs": []
    },
    {
      "cell_type": "code",
      "source": [
        "jrdd.take(5)"
      ],
      "metadata": {
        "colab": {
          "base_uri": "https://localhost:8080/"
        },
        "id": "ByFp4EagKoVE",
        "outputId": "efe9c2bb-3502-4cde-ac49-8f470647f9d9"
      },
      "execution_count": 106,
      "outputs": [
        {
          "output_type": "execute_result",
          "data": {
            "text/plain": [
              "[('14', (['14', 'Nixon (1995)', 'Drama'], ['8', '14', '4', '978230756'])),\n",
              " ('14', (['14', 'Nixon (1995)', 'Drama'], ['69', '14', '5', '977882128'])),\n",
              " ('14', (['14', 'Nixon (1995)', 'Drama'], ['123', '14', '4', '979326055'])),\n",
              " ('14', (['14', 'Nixon (1995)', 'Drama'], ['136', '14', '4', '977422645'])),\n",
              " ('14', (['14', 'Nixon (1995)', 'Drama'], ['187', '14', '4', '977234430']))]"
            ]
          },
          "metadata": {},
          "execution_count": 106
        }
      ]
    },
    {
      "cell_type": "code",
      "source": [
        "# retrive the names from the above result\n",
        "rval=jrdd.groupBy(lambda g:g[1][0][1])"
      ],
      "metadata": {
        "id": "oK2sOKvmK7Ty"
      },
      "execution_count": 107,
      "outputs": []
    },
    {
      "cell_type": "code",
      "source": [
        "rval.take(2)"
      ],
      "metadata": {
        "colab": {
          "base_uri": "https://localhost:8080/"
        },
        "id": "44I-39OSLdke",
        "outputId": "e93db5ac-1ebb-49a9-dd13-8d035ed79872"
      },
      "execution_count": 108,
      "outputs": [
        {
          "output_type": "execute_result",
          "data": {
            "text/plain": [
              "[('Othello (1995)', <pyspark.resultiterable.ResultIterable at 0x7ace3c18c550>),\n",
              " ('Dangerous Minds (1995)',\n",
              "  <pyspark.resultiterable.ResultIterable at 0x7ace3c0de910>)]"
            ]
          },
          "metadata": {},
          "execution_count": 108
        }
      ]
    },
    {
      "cell_type": "code",
      "source": [
        "# get undisplayed values w r t length\n",
        "result=rval.map(lambda element:(element[0],len(element[1])))\n",
        "result.take(2)"
      ],
      "metadata": {
        "colab": {
          "base_uri": "https://localhost:8080/"
        },
        "id": "sp9LCz11LhgE",
        "outputId": "d731eff5-0a05-4db4-e068-523c8fdfe953"
      },
      "execution_count": 115,
      "outputs": [
        {
          "output_type": "execute_result",
          "data": {
            "text/plain": [
              "[('Othello (1995)', 100), ('Dangerous Minds (1995)', 141)]"
            ]
          },
          "metadata": {},
          "execution_count": 115
        }
      ]
    },
    {
      "cell_type": "code",
      "source": [
        "fres=result.max(lambda res:res[1])"
      ],
      "metadata": {
        "id": "EjLcsMkdMfTY"
      },
      "execution_count": 116,
      "outputs": []
    },
    {
      "cell_type": "code",
      "source": [
        "print(fres)"
      ],
      "metadata": {
        "colab": {
          "base_uri": "https://localhost:8080/"
        },
        "id": "JFJ0ldNiMmc6",
        "outputId": "d9f2606c-b595-4d33-c087-fa2b7454b245"
      },
      "execution_count": 118,
      "outputs": [
        {
          "output_type": "stream",
          "name": "stdout",
          "text": [
            "('Shawshank Redemption, The (1994)', 2227)\n"
          ]
        }
      ]
    }
  ]
}