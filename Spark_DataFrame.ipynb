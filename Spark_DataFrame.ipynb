{
  "nbformat": 4,
  "nbformat_minor": 0,
  "metadata": {
    "colab": {
      "provenance": [],
      "authorship_tag": "ABX9TyO8m8Au26rGj+g/ISYeE3gP",
      "include_colab_link": true
    },
    "kernelspec": {
      "name": "python3",
      "display_name": "Python 3"
    },
    "language_info": {
      "name": "python"
    }
  },
  "cells": [
    {
      "cell_type": "markdown",
      "metadata": {
        "id": "view-in-github",
        "colab_type": "text"
      },
      "source": [
        "<a href=\"https://colab.research.google.com/github/drustantmetar/DataFrame1/blob/main/Spark_DataFrame.ipynb\" target=\"_parent\"><img src=\"https://colab.research.google.com/assets/colab-badge.svg\" alt=\"Open In Colab\"/></a>"
      ]
    },
    {
      "cell_type": "markdown",
      "source": [
        "spark data frame\n",
        "**bold text**"
      ],
      "metadata": {
        "id": "uan82Ii87p6C"
      }
    },
    {
      "cell_type": "code",
      "execution_count": 2,
      "metadata": {
        "id": "z4j1NDRc594-"
      },
      "outputs": [],
      "source": [
        "import pyspark\n",
        "from pyspark.sql import SparkSession\n",
        "from pyspark.sql.functions import *"
      ]
    },
    {
      "cell_type": "code",
      "source": [
        "#sc: SparkContext= SparkSession\\\n",
        "spark = SparkSession\\\n",
        ".builder\\\n",
        ".appName(\"Spark-SQL\")\\\n",
        ".master(\"local\")\\\n",
        ".getOrCreate()"
      ],
      "metadata": {
        "id": "A6haSp9H78UF"
      },
      "execution_count": 8,
      "outputs": []
    },
    {
      "cell_type": "code",
      "source": [
        "moviesdf=spark.read.option(\"header\",\"true\").option(\"inferschema\",\"true\").format(\"csv\").load(\"/content/movies.csv\")\n",
        "ratingsdf=spark.read.format(\"csv\").option(\"header\",\"true\").option(\"inferschema\",\"true\").load(\"/content/ratings.csv\")"
      ],
      "metadata": {
        "id": "oz-VhN2HxHP1"
      },
      "execution_count": 31,
      "outputs": []
    },
    {
      "cell_type": "code",
      "source": [
        "moviesdf.printSchema()\n",
        "ratingsdf.printSchema()"
      ],
      "metadata": {
        "colab": {
          "base_uri": "https://localhost:8080/"
        },
        "id": "TTGuG5ujyamu",
        "outputId": "a2b57442-06c7-4c0e-8465-6324459322ae"
      },
      "execution_count": 33,
      "outputs": [
        {
          "output_type": "stream",
          "name": "stdout",
          "text": [
            "root\n",
            " |-- movieId: integer (nullable = true)\n",
            " |-- title: string (nullable = true)\n",
            " |-- genres: string (nullable = true)\n",
            "\n",
            "root\n",
            " |-- userId: integer (nullable = true)\n",
            " |-- movieId: integer (nullable = true)\n",
            " |-- rating: double (nullable = true)\n",
            " |-- timestamp: integer (nullable = true)\n",
            "\n"
          ]
        }
      ]
    },
    {
      "cell_type": "code",
      "source": [
        "moviesdf.select(\"movieId\",\"title\").show(5)"
      ],
      "metadata": {
        "colab": {
          "base_uri": "https://localhost:8080/"
        },
        "id": "f5ReDVdw1su6",
        "outputId": "f39c3877-1e58-4020-e500-d1243cfabd83"
      },
      "execution_count": 34,
      "outputs": [
        {
          "output_type": "stream",
          "name": "stdout",
          "text": [
            "+-------+--------------------+\n",
            "|movieId|               title|\n",
            "+-------+--------------------+\n",
            "|      1|    Toy Story (1995)|\n",
            "|      2|      Jumanji (1995)|\n",
            "|      3|Grumpier Old Men ...|\n",
            "|      4|Waiting to Exhale...|\n",
            "|      5|Father of the Bri...|\n",
            "+-------+--------------------+\n",
            "only showing top 5 rows\n",
            "\n"
          ]
        }
      ]
    },
    {
      "cell_type": "code",
      "source": [
        "ratingsdf.filter(\"rating<3.0\").show(10)"
      ],
      "metadata": {
        "colab": {
          "base_uri": "https://localhost:8080/"
        },
        "id": "hFsIsbtM2uJt",
        "outputId": "09f8163d-3e4f-42f8-82c9-91a77d07f570"
      },
      "execution_count": 35,
      "outputs": [
        {
          "output_type": "stream",
          "name": "stdout",
          "text": [
            "+------+-------+------+---------+\n",
            "|userId|movieId|rating|timestamp|\n",
            "+------+-------+------+---------+\n",
            "|     2|    891|   2.0|974820969|\n",
            "|     2|   1969|   2.0|974820969|\n",
            "|     2|   1970|   2.0|974820969|\n",
            "|     2|   1971|   2.0|974820943|\n",
            "|     2|   1972|   2.0|974820969|\n",
            "|     2|   1986|   2.0|974820969|\n",
            "|     2|   2291|   2.0|974820748|\n",
            "|     2|   2791|   2.0|974820659|\n",
            "|     3|    173|   2.0|945176099|\n",
            "|     3|    512|   2.0|945176005|\n",
            "+------+-------+------+---------+\n",
            "only showing top 10 rows\n",
            "\n"
          ]
        }
      ]
    },
    {
      "cell_type": "code",
      "source": [
        "ratingsdf.groupBy(\"rating\").count().orderBy(\"rating\").show()"
      ],
      "metadata": {
        "colab": {
          "base_uri": "https://localhost:8080/"
        },
        "id": "iHMALpJ0841n",
        "outputId": "e67e0aa7-db9e-4911-fd5d-5d36ae123430"
      },
      "execution_count": 38,
      "outputs": [
        {
          "output_type": "stream",
          "name": "stdout",
          "text": [
            "+------+-------+\n",
            "|rating|  count|\n",
            "+------+-------+\n",
            "|   0.5| 162322|\n",
            "|   1.0| 455078|\n",
            "|   1.5| 186839|\n",
            "|   2.0| 960915|\n",
            "|   2.5| 595149|\n",
            "|   3.0|2871144|\n",
            "|   3.5|1479467|\n",
            "|   4.0|3723912|\n",
            "|   4.5|1030401|\n",
            "|   5.0|1941520|\n",
            "+------+-------+\n",
            "\n"
          ]
        }
      ]
    },
    {
      "cell_type": "code",
      "source": [
        "ratingsdf.groupBy(\"rating\").count().orderBy(col(\"rating\").desc()).show()\n",
        "#ratingsdf.groupBy(\"rating\").count().orderBy(ratingsdf.rating.desc()).show()"
      ],
      "metadata": {
        "colab": {
          "base_uri": "https://localhost:8080/"
        },
        "id": "5wXmt7Aw-Xvq",
        "outputId": "7813adbe-021f-46e1-fe9f-0ea80d1940a3"
      },
      "execution_count": 40,
      "outputs": [
        {
          "output_type": "stream",
          "name": "stdout",
          "text": [
            "+------+-------+\n",
            "|rating|  count|\n",
            "+------+-------+\n",
            "|   5.0|1941520|\n",
            "|   4.5|1030401|\n",
            "|   4.0|3723912|\n",
            "|   3.5|1479467|\n",
            "|   3.0|2871144|\n",
            "|   2.5| 595149|\n",
            "|   2.0| 960915|\n",
            "|   1.5| 186839|\n",
            "|   1.0| 455078|\n",
            "|   0.5| 162322|\n",
            "+------+-------+\n",
            "\n"
          ]
        }
      ]
    },
    {
      "cell_type": "code",
      "source": [
        "ratingsdf.describe().show()"
      ],
      "metadata": {
        "colab": {
          "base_uri": "https://localhost:8080/"
        },
        "id": "-Q-E_kXT_m-6",
        "outputId": "0b857cf2-8c74-4c5c-f94c-3f7812d0d81f"
      },
      "execution_count": 41,
      "outputs": [
        {
          "output_type": "stream",
          "name": "stdout",
          "text": [
            "+-------+------------------+------------------+------------------+--------------------+\n",
            "|summary|            userId|           movieId|            rating|           timestamp|\n",
            "+-------+------------------+------------------+------------------+--------------------+\n",
            "|  count|          13406747|          13406747|          13406747|            13406747|\n",
            "|   mean|46185.872029508726| 9062.768976023788|3.5249280828526115|1.1012320369401236E9|\n",
            "| stddev|26835.497827007657|19800.549275374764| 1.052413058181816|1.6204168576153734E8|\n",
            "|    min|                 1|                 1|               0.5|           789652004|\n",
            "|    max|             92645|            131260|               5.0|          1427784002|\n",
            "+-------+------------------+------------------+------------------+--------------------+\n",
            "\n"
          ]
        }
      ]
    },
    {
      "cell_type": "code",
      "source": [
        "ratingsdf.describe(\"rating\").show()"
      ],
      "metadata": {
        "colab": {
          "base_uri": "https://localhost:8080/"
        },
        "id": "IRWQ-JhHAFKj",
        "outputId": "54a013ee-ff70-442c-fe09-672e5f7ad48a"
      },
      "execution_count": 42,
      "outputs": [
        {
          "output_type": "stream",
          "name": "stdout",
          "text": [
            "+-------+------------------+\n",
            "|summary|            rating|\n",
            "+-------+------------------+\n",
            "|  count|          13406747|\n",
            "|   mean|3.5249280828526115|\n",
            "| stddev| 1.052413058181816|\n",
            "|    min|               0.5|\n",
            "|    max|               5.0|\n",
            "+-------+------------------+\n",
            "\n"
          ]
        }
      ]
    },
    {
      "cell_type": "code",
      "source": [
        "moviesdf.printSchema()\n",
        "moviesdf.createTempView(\"title\")"
      ],
      "metadata": {
        "colab": {
          "base_uri": "https://localhost:8080/"
        },
        "id": "UEBo_VZ_E1x8",
        "outputId": "8df201fd-a0b2-491b-cbad-566be7769b2d"
      },
      "execution_count": 63,
      "outputs": [
        {
          "output_type": "stream",
          "name": "stdout",
          "text": [
            "root\n",
            " |-- movieId: integer (nullable = true)\n",
            " |-- title: string (nullable = true)\n",
            " |-- genres: string (nullable = true)\n",
            "\n"
          ]
        }
      ]
    },
    {
      "cell_type": "code",
      "source": [
        "spark.sql(\"select * from title limit 2\").show()"
      ],
      "metadata": {
        "colab": {
          "base_uri": "https://localhost:8080/"
        },
        "id": "e30QSeisFF9V",
        "outputId": "033a910e-a528-462d-8f1c-3241f0f703da"
      },
      "execution_count": 67,
      "outputs": [
        {
          "output_type": "stream",
          "name": "stdout",
          "text": [
            "+-------+----------------+--------------------+\n",
            "|movieId|           title|              genres|\n",
            "+-------+----------------+--------------------+\n",
            "|      1|Toy Story (1995)|Adventure|Animati...|\n",
            "|      2|  Jumanji (1995)|Adventure|Childre...|\n",
            "+-------+----------------+--------------------+\n",
            "\n"
          ]
        }
      ]
    },
    {
      "cell_type": "code",
      "source": [
        "ratingsdf.createOrReplaceTempView(\"rating\") # inside the tempview is must be a column name of the data frame"
      ],
      "metadata": {
        "id": "BvNTkeT9AfVj"
      },
      "execution_count": 60,
      "outputs": []
    },
    {
      "cell_type": "code",
      "source": [
        "spark.sql(\"select * from ratings order by rating desc limit 5\").show()"
      ],
      "metadata": {
        "colab": {
          "base_uri": "https://localhost:8080/"
        },
        "id": "genhAdp-AlBd",
        "outputId": "4d4e21dc-e5be-45f3-b80c-25f8af1163d5"
      },
      "execution_count": 61,
      "outputs": [
        {
          "output_type": "stream",
          "name": "stdout",
          "text": [
            "+------+-------+------+----------+\n",
            "|userId|movieId|rating| timestamp|\n",
            "+------+-------+------+----------+\n",
            "|     1|   8507|   5.0|1094786027|\n",
            "| 70568|    260|   5.0|1142392251|\n",
            "| 35128|   5287|   5.0|1031583587|\n",
            "| 70568|    527|   5.0|1142392243|\n",
            "|     2|    266|   5.0| 974820748|\n",
            "+------+-------+------+----------+\n",
            "\n"
          ]
        }
      ]
    },
    {
      "cell_type": "code",
      "source": [
        "spark.sql('''select t.title,count(*) from title t join rating r on t.movieId=r.userId where t.genres='Comedy'\n",
        " group by t.title order by t.title desc limit 20''').show()"
      ],
      "metadata": {
        "colab": {
          "base_uri": "https://localhost:8080/"
        },
        "id": "b36Xl0eAFpPB",
        "outputId": "71351a07-275a-461e-917c-d7a0401e15d1"
      },
      "execution_count": 85,
      "outputs": [
        {
          "output_type": "stream",
          "name": "stdout",
          "text": [
            "+--------------------+--------+\n",
            "|               title|count(1)|\n",
            "+--------------------+--------+\n",
            "|Zorro, the Gay Bl...|    1088|\n",
            "|    Zoolander (2001)|      24|\n",
            "|    Zookeeper (2011)|     161|\n",
            "|        Zelig (1983)|     222|\n",
            "|Zeisters (Fat Guy...|      21|\n",
            "|     Zebraman (2004)|      27|\n",
            "|Zazie dans le mét...|     311|\n",
            "|Yrrol: An Enormou...|      31|\n",
            "|Young People Fuck...|      62|\n",
            "|Young Einstein (1...|     561|\n",
            "|Young Doctors in ...|     112|\n",
            "|You, Me and Dupre...|      41|\n",
            "|You're Telling Me...|      53|\n",
            "|You Don't Mess wi...|     213|\n",
            "|    You Again (2010)|      78|\n",
            "|      Yolki 2 (2011)|      42|\n",
            "|        Yolki (2010)|     218|\n",
            "|Yesterday, Today ...|     176|\n",
            "|      Yes Man (2008)|     339|\n",
            "|         Xala (1975)|      66|\n",
            "+--------------------+--------+\n",
            "\n"
          ]
        }
      ]
    }
  ]
}