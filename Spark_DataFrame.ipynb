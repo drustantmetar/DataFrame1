{
  "nbformat": 4,
  "nbformat_minor": 0,
  "metadata": {
    "colab": {
      "provenance": [],
      "authorship_tag": "ABX9TyMLjupVcgO8HiRnAIuC8b+g",
      "include_colab_link": true
    },
    "kernelspec": {
      "name": "python3",
      "display_name": "Python 3"
    },
    "language_info": {
      "name": "python"
    }
  },
  "cells": [
    {
      "cell_type": "markdown",
      "metadata": {
        "id": "view-in-github",
        "colab_type": "text"
      },
      "source": [
        "<a href=\"https://colab.research.google.com/github/drustantmetar/DataFrame1/blob/main/Spark_DataFrame.ipynb\" target=\"_parent\"><img src=\"https://colab.research.google.com/assets/colab-badge.svg\" alt=\"Open In Colab\"/></a>"
      ]
    },
    {
      "cell_type": "markdown",
      "source": [
        "spark data frame\n",
        "**bold text**"
      ],
      "metadata": {
        "id": "uan82Ii87p6C"
      }
    },
    {
      "cell_type": "code",
      "execution_count": 2,
      "metadata": {
        "id": "z4j1NDRc594-"
      },
      "outputs": [],
      "source": [
        "import pyspark\n",
        "from pyspark.sql import SparkSession\n",
        "from pyspark.sql.functions import *"
      ]
    },
    {
      "cell_type": "code",
      "source": [
        "#sc: SparkContext= SparkSession\\\n",
        "spark = SparkSession\\\n",
        ".builder\\\n",
        ".appName(\"Spark-SQL\")\\\n",
        ".master(\"local\")\\\n",
        ".getOrCreate()"
      ],
      "metadata": {
        "id": "A6haSp9H78UF"
      },
      "execution_count": 8,
      "outputs": []
    },
    {
      "cell_type": "code",
      "source": [
        "moviesdf=spark.read.option(\"header\",\"true\").option(\"inferschema\",\"true\").format(\"csv\").load(\"/content/movies.csv\")\n",
        "ratingsdf=spark.read.format(\"csv\").option(\"header\",\"true\").option(\"inferschema\",\"true\").load(\"/content/ratings.csv\")"
      ],
      "metadata": {
        "id": "oz-VhN2HxHP1"
      },
      "execution_count": 31,
      "outputs": []
    },
    {
      "cell_type": "code",
      "source": [
        "moviesdf.printSchema()\n",
        "ratingsdf.printSchema()"
      ],
      "metadata": {
        "colab": {
          "base_uri": "https://localhost:8080/"
        },
        "id": "TTGuG5ujyamu",
        "outputId": "a2b57442-06c7-4c0e-8465-6324459322ae"
      },
      "execution_count": 33,
      "outputs": [
        {
          "output_type": "stream",
          "name": "stdout",
          "text": [
            "root\n",
            " |-- movieId: integer (nullable = true)\n",
            " |-- title: string (nullable = true)\n",
            " |-- genres: string (nullable = true)\n",
            "\n",
            "root\n",
            " |-- userId: integer (nullable = true)\n",
            " |-- movieId: integer (nullable = true)\n",
            " |-- rating: double (nullable = true)\n",
            " |-- timestamp: integer (nullable = true)\n",
            "\n"
          ]
        }
      ]
    },
    {
      "cell_type": "code",
      "source": [
        "moviesdf.select(\"movieId\",\"title\").show(5)"
      ],
      "metadata": {
        "id": "f5ReDVdw1su6",
        "outputId": "f39c3877-1e58-4020-e500-d1243cfabd83",
        "colab": {
          "base_uri": "https://localhost:8080/"
        }
      },
      "execution_count": 34,
      "outputs": [
        {
          "output_type": "stream",
          "name": "stdout",
          "text": [
            "+-------+--------------------+\n",
            "|movieId|               title|\n",
            "+-------+--------------------+\n",
            "|      1|    Toy Story (1995)|\n",
            "|      2|      Jumanji (1995)|\n",
            "|      3|Grumpier Old Men ...|\n",
            "|      4|Waiting to Exhale...|\n",
            "|      5|Father of the Bri...|\n",
            "+-------+--------------------+\n",
            "only showing top 5 rows\n",
            "\n"
          ]
        }
      ]
    },
    {
      "cell_type": "code",
      "source": [
        "ratingsdf.filter(\"rating<3.0\").show(10)"
      ],
      "metadata": {
        "id": "hFsIsbtM2uJt",
        "outputId": "09f8163d-3e4f-42f8-82c9-91a77d07f570",
        "colab": {
          "base_uri": "https://localhost:8080/"
        }
      },
      "execution_count": 35,
      "outputs": [
        {
          "output_type": "stream",
          "name": "stdout",
          "text": [
            "+------+-------+------+---------+\n",
            "|userId|movieId|rating|timestamp|\n",
            "+------+-------+------+---------+\n",
            "|     2|    891|   2.0|974820969|\n",
            "|     2|   1969|   2.0|974820969|\n",
            "|     2|   1970|   2.0|974820969|\n",
            "|     2|   1971|   2.0|974820943|\n",
            "|     2|   1972|   2.0|974820969|\n",
            "|     2|   1986|   2.0|974820969|\n",
            "|     2|   2291|   2.0|974820748|\n",
            "|     2|   2791|   2.0|974820659|\n",
            "|     3|    173|   2.0|945176099|\n",
            "|     3|    512|   2.0|945176005|\n",
            "+------+-------+------+---------+\n",
            "only showing top 10 rows\n",
            "\n"
          ]
        }
      ]
    },
    {
      "cell_type": "code",
      "source": [
        "ratingsdf.groupBy(\"rating\").count().orderBy(\"rating\").show()"
      ],
      "metadata": {
        "id": "iHMALpJ0841n",
        "outputId": "e67e0aa7-db9e-4911-fd5d-5d36ae123430",
        "colab": {
          "base_uri": "https://localhost:8080/"
        }
      },
      "execution_count": 38,
      "outputs": [
        {
          "output_type": "stream",
          "name": "stdout",
          "text": [
            "+------+-------+\n",
            "|rating|  count|\n",
            "+------+-------+\n",
            "|   0.5| 162322|\n",
            "|   1.0| 455078|\n",
            "|   1.5| 186839|\n",
            "|   2.0| 960915|\n",
            "|   2.5| 595149|\n",
            "|   3.0|2871144|\n",
            "|   3.5|1479467|\n",
            "|   4.0|3723912|\n",
            "|   4.5|1030401|\n",
            "|   5.0|1941520|\n",
            "+------+-------+\n",
            "\n"
          ]
        }
      ]
    },
    {
      "cell_type": "code",
      "source": [
        "ratingsdf.groupBy(\"rating\").count().orderBy(col(\"rating\").desc()).show()"
      ],
      "metadata": {
        "id": "5wXmt7Aw-Xvq",
        "outputId": "7813adbe-021f-46e1-fe9f-0ea80d1940a3",
        "colab": {
          "base_uri": "https://localhost:8080/"
        }
      },
      "execution_count": 40,
      "outputs": [
        {
          "output_type": "stream",
          "name": "stdout",
          "text": [
            "+------+-------+\n",
            "|rating|  count|\n",
            "+------+-------+\n",
            "|   5.0|1941520|\n",
            "|   4.5|1030401|\n",
            "|   4.0|3723912|\n",
            "|   3.5|1479467|\n",
            "|   3.0|2871144|\n",
            "|   2.5| 595149|\n",
            "|   2.0| 960915|\n",
            "|   1.5| 186839|\n",
            "|   1.0| 455078|\n",
            "|   0.5| 162322|\n",
            "+------+-------+\n",
            "\n"
          ]
        }
      ]
    }
  ]
}