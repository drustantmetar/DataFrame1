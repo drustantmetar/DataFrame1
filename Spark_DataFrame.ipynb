{
  "nbformat": 4,
  "nbformat_minor": 0,
  "metadata": {
    "colab": {
      "provenance": [],
      "authorship_tag": "ABX9TyNICWSG0uJSKdShvhlFeDK4",
      "include_colab_link": true
    },
    "kernelspec": {
      "name": "python3",
      "display_name": "Python 3"
    },
    "language_info": {
      "name": "python"
    }
  },
  "cells": [
    {
      "cell_type": "markdown",
      "metadata": {
        "id": "view-in-github",
        "colab_type": "text"
      },
      "source": [
        "<a href=\"https://colab.research.google.com/github/drustantmetar/DataFrame1/blob/main/Spark_DataFrame.ipynb\" target=\"_parent\"><img src=\"https://colab.research.google.com/assets/colab-badge.svg\" alt=\"Open In Colab\"/></a>"
      ]
    },
    {
      "cell_type": "markdown",
      "source": [
        "spark data frame\n",
        "**bold text**"
      ],
      "metadata": {
        "id": "uan82Ii87p6C"
      }
    },
    {
      "cell_type": "code",
      "execution_count": 2,
      "metadata": {
        "id": "z4j1NDRc594-"
      },
      "outputs": [],
      "source": [
        "import pyspark\n",
        "from pyspark.sql import SparkSession\n",
        "from pyspark.sql.functions import *"
      ]
    },
    {
      "cell_type": "code",
      "source": [
        "#sc: SparkContext= SparkSession\\\n",
        "spark = SparkSession\\\n",
        ".builder\\\n",
        ".appName(\"Spark-SQL\")\\\n",
        ".master(\"local\")\\\n",
        ".getOrCreate()"
      ],
      "metadata": {
        "id": "A6haSp9H78UF"
      },
      "execution_count": 8,
      "outputs": []
    },
    {
      "cell_type": "code",
      "source": [
        "moviesdf=spark.read.option(\"header\",\"true\").option(\"inferschema\",\"true\").format(\"csv\").load(\"/content/movies.csv\")\n",
        "ratingsdf=spark.read.format(\"csv\").option(\"header\",\"true\").option(\"inferschema\",\"true\").load(\"/content/ratings.csv\")"
      ],
      "metadata": {
        "id": "oz-VhN2HxHP1"
      },
      "execution_count": 31,
      "outputs": []
    },
    {
      "cell_type": "code",
      "source": [
        "moviesdf.printSchema()\n",
        "ratingsdf.printSchema()"
      ],
      "metadata": {
        "id": "TTGuG5ujyamu",
        "outputId": "a2b57442-06c7-4c0e-8465-6324459322ae",
        "colab": {
          "base_uri": "https://localhost:8080/"
        }
      },
      "execution_count": 33,
      "outputs": [
        {
          "output_type": "stream",
          "name": "stdout",
          "text": [
            "root\n",
            " |-- movieId: integer (nullable = true)\n",
            " |-- title: string (nullable = true)\n",
            " |-- genres: string (nullable = true)\n",
            "\n",
            "root\n",
            " |-- userId: integer (nullable = true)\n",
            " |-- movieId: integer (nullable = true)\n",
            " |-- rating: double (nullable = true)\n",
            " |-- timestamp: integer (nullable = true)\n",
            "\n"
          ]
        }
      ]
    }
  ]
}