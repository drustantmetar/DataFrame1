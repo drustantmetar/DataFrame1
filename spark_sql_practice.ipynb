{
  "nbformat": 4,
  "nbformat_minor": 0,
  "metadata": {
    "colab": {
      "provenance": [],
      "authorship_tag": "ABX9TyOZRhbcE1G9X1hc5C7r2uKJ",
      "include_colab_link": true
    },
    "kernelspec": {
      "name": "python3",
      "display_name": "Python 3"
    },
    "language_info": {
      "name": "python"
    }
  },
  "cells": [
    {
      "cell_type": "markdown",
      "metadata": {
        "id": "view-in-github",
        "colab_type": "text"
      },
      "source": [
        "<a href=\"https://colab.research.google.com/github/drustantmetar/DataFrame1/blob/main/spark_sql_practice.ipynb\" target=\"_parent\"><img src=\"https://colab.research.google.com/assets/colab-badge.svg\" alt=\"Open In Colab\"/></a>"
      ]
    },
    {
      "cell_type": "code",
      "execution_count": 3,
      "metadata": {
        "id": "k5XAPoBxQHXk"
      },
      "outputs": [],
      "source": [
        "import pyspark\n",
        "from pyspark.sql import SparkSession\n",
        "from pyspark.sql.functions import *"
      ]
    },
    {
      "cell_type": "code",
      "source": [
        "# create SparkSession\n",
        "spark = SparkSession\\\n",
        ".builder\\\n",
        ".master(\"local\")\\\n",
        ".appName(\"SQP n Pyspark\")\\\n",
        ".getOrCreate()"
      ],
      "metadata": {
        "id": "RJwTymbcQWQk"
      },
      "execution_count": 4,
      "outputs": []
    },
    {
      "cell_type": "code",
      "source": [
        "# load the files into the spark session\n",
        "moviesdf=spark.read.option(\"Header\",\"true\").option(\"inferschema\",\"true\").format(\"csv\").load(\"/content/movies.csv\")\n",
        "ratingsdf=spark.read.option(\"Header\",\"true\").option(\"inferschema\",\"true\").format(\"csv\").load(\"/content/ratings.csv\")"
      ],
      "metadata": {
        "id": "qH3hNDAdQocx"
      },
      "execution_count": 14,
      "outputs": []
    },
    {
      "cell_type": "code",
      "source": [
        "# we get the schrma with original data type vales\n",
        "moviesdf.printSchema()"
      ],
      "metadata": {
        "colab": {
          "base_uri": "https://localhost:8080/"
        },
        "id": "KzBntlG3RLgi",
        "outputId": "5bff63b5-147e-4726-c655-3c102bd47016"
      },
      "execution_count": 13,
      "outputs": [
        {
          "output_type": "stream",
          "name": "stdout",
          "text": [
            "root\n",
            " |-- movieId: integer (nullable = true)\n",
            " |-- title: string (nullable = true)\n",
            " |-- genres: string (nullable = true)\n",
            "\n"
          ]
        }
      ]
    },
    {
      "cell_type": "code",
      "source": [
        "ratingsdf.printSchema()"
      ],
      "metadata": {
        "colab": {
          "base_uri": "https://localhost:8080/"
        },
        "id": "t0QR5rxWRlr5",
        "outputId": "22efe75d-337d-461c-c90a-e7f33b6e2556"
      },
      "execution_count": 15,
      "outputs": [
        {
          "output_type": "stream",
          "name": "stdout",
          "text": [
            "root\n",
            " |-- userId: integer (nullable = true)\n",
            " |-- movieId: integer (nullable = true)\n",
            " |-- rating: double (nullable = true)\n",
            " |-- timestamp: integer (nullable = true)\n",
            "\n"
          ]
        }
      ]
    },
    {
      "cell_type": "code",
      "source": [
        "ratingsdf.show(5)"
      ],
      "metadata": {
        "colab": {
          "base_uri": "https://localhost:8080/"
        },
        "id": "gb8YXFqoR8J2",
        "outputId": "ef65ce08-d987-4b41-af4a-db087de14ee3"
      },
      "execution_count": 16,
      "outputs": [
        {
          "output_type": "stream",
          "name": "stdout",
          "text": [
            "+------+-------+------+----------+\n",
            "|userId|movieId|rating| timestamp|\n",
            "+------+-------+------+----------+\n",
            "|     1|      2|   3.5|1112486027|\n",
            "|     1|     29|   3.5|1112484676|\n",
            "|     1|     32|   3.5|1112484819|\n",
            "|     1|     47|   3.5|1112484727|\n",
            "|     1|     50|   3.5|1112484580|\n",
            "+------+-------+------+----------+\n",
            "only showing top 5 rows\n",
            "\n"
          ]
        }
      ]
    },
    {
      "cell_type": "code",
      "source": [
        "ratingsdf.select(\"userID\",\"rating\").show(5)"
      ],
      "metadata": {
        "colab": {
          "base_uri": "https://localhost:8080/"
        },
        "id": "uw0MphceSCu6",
        "outputId": "e09e7706-8fe7-4d75-820c-bf58cbd1279a"
      },
      "execution_count": 18,
      "outputs": [
        {
          "output_type": "stream",
          "name": "stdout",
          "text": [
            "+------+------+\n",
            "|userID|rating|\n",
            "+------+------+\n",
            "|     1|   3.5|\n",
            "|     1|   3.5|\n",
            "|     1|   3.5|\n",
            "|     1|   3.5|\n",
            "|     1|   3.5|\n",
            "+------+------+\n",
            "only showing top 5 rows\n",
            "\n"
          ]
        }
      ]
    },
    {
      "cell_type": "code",
      "source": [
        "ratingsdf.filter(\"rating>3.35\").show(5)"
      ],
      "metadata": {
        "colab": {
          "base_uri": "https://localhost:8080/"
        },
        "id": "6yzTMJ-HSOBV",
        "outputId": "d00dc5eb-d981-428c-f8a2-74cab8eb2ffa"
      },
      "execution_count": 19,
      "outputs": [
        {
          "output_type": "stream",
          "name": "stdout",
          "text": [
            "+------+-------+------+----------+\n",
            "|userId|movieId|rating| timestamp|\n",
            "+------+-------+------+----------+\n",
            "|     1|      2|   3.5|1112486027|\n",
            "|     1|     29|   3.5|1112484676|\n",
            "|     1|     32|   3.5|1112484819|\n",
            "|     1|     47|   3.5|1112484727|\n",
            "|     1|     50|   3.5|1112484580|\n",
            "+------+-------+------+----------+\n",
            "only showing top 5 rows\n",
            "\n"
          ]
        }
      ]
    },
    {
      "cell_type": "markdown",
      "source": [
        "**Display the rating with count**"
      ],
      "metadata": {
        "id": "E5VD22EJSzie"
      }
    },
    {
      "cell_type": "code",
      "source": [],
      "metadata": {
        "id": "5S25HNvoT0Nb"
      },
      "execution_count": null,
      "outputs": []
    },
    {
      "cell_type": "code",
      "source": [
        "ratingsdf.groupBy(\"rating\").count().orderBy(col(\"rating\").desc()).show(10)"
      ],
      "metadata": {
        "colab": {
          "base_uri": "https://localhost:8080/"
        },
        "id": "9t27uB6fSzRG",
        "outputId": "3fbe8ad7-a404-4989-ad1f-77f71d186ae1"
      },
      "execution_count": 30,
      "outputs": [
        {
          "output_type": "stream",
          "name": "stdout",
          "text": [
            "+------+-------+\n",
            "|rating|  count|\n",
            "+------+-------+\n",
            "|   5.0| 981369|\n",
            "|   4.5| 520181|\n",
            "|   4.0|1884182|\n",
            "|   3.5| 752323|\n",
            "|   3.0|1457862|\n",
            "|   2.5| 304124|\n",
            "|   2.0| 486137|\n",
            "|   1.5|  93622|\n",
            "|   1.0| 231165|\n",
            "|   0.5|  82327|\n",
            "+------+-------+\n",
            "\n"
          ]
        }
      ]
    },
    {
      "cell_type": "code",
      "source": [
        "# create or replace temp view\n",
        "msql=moviesdf.createOrReplaceTempView(\"moviesdf\")\n",
        "rsql=ratingsdf.createOrReplaceTempView(\"ratingsdf\")"
      ],
      "metadata": {
        "id": "rrS0zhvyUBGF"
      },
      "execution_count": 31,
      "outputs": []
    },
    {
      "cell_type": "code",
      "source": [
        "spark.sql(\"select * from moviesdf limit 3\").show()"
      ],
      "metadata": {
        "colab": {
          "base_uri": "https://localhost:8080/"
        },
        "id": "G7loR0HuUSOz",
        "outputId": "fcd7611b-181c-428c-a588-42a4ec96d9ee"
      },
      "execution_count": 33,
      "outputs": [
        {
          "output_type": "stream",
          "name": "stdout",
          "text": [
            "+-------+--------------------+--------------------+\n",
            "|movieId|               title|              genres|\n",
            "+-------+--------------------+--------------------+\n",
            "|      1|    Toy Story (1995)|Adventure|Animati...|\n",
            "|      2|      Jumanji (1995)|Adventure|Childre...|\n",
            "|      3|Grumpier Old Men ...|      Comedy|Romance|\n",
            "+-------+--------------------+--------------------+\n",
            "\n"
          ]
        }
      ]
    },
    {
      "cell_type": "code",
      "source": [
        "spark.sql(\"select * from moviesdf order by movieId desc limit 2\").show()"
      ],
      "metadata": {
        "colab": {
          "base_uri": "https://localhost:8080/"
        },
        "id": "6qA2cPadUhlI",
        "outputId": "da3fd25d-e408-48b9-83a2-b108e383c7f2"
      },
      "execution_count": 36,
      "outputs": [
        {
          "output_type": "stream",
          "name": "stdout",
          "text": [
            "+-------+-------------------+--------------------+\n",
            "|movieId|              title|              genres|\n",
            "+-------+-------------------+--------------------+\n",
            "| 131262|   Innocence (2014)|Adventure|Fantasy...|\n",
            "| 131260|Rentun Ruusu (2001)|  (no genres listed)|\n",
            "+-------+-------------------+--------------------+\n",
            "\n"
          ]
        }
      ]
    },
    {
      "cell_type": "markdown",
      "source": [
        "Movie name and rating count"
      ],
      "metadata": {
        "id": "HYoxjS6KU-Pk"
      }
    },
    {
      "cell_type": "code",
      "source": [
        "moviesdf.describe().show()"
      ],
      "metadata": {
        "colab": {
          "base_uri": "https://localhost:8080/"
        },
        "id": "tRT3cQmmU9_k",
        "outputId": "1f62d9ee-c3c3-4dde-f18e-00225d307656"
      },
      "execution_count": 37,
      "outputs": [
        {
          "output_type": "stream",
          "name": "stdout",
          "text": [
            "+-------+-----------------+--------------------+------------------+\n",
            "|summary|          movieId|               title|            genres|\n",
            "+-------+-----------------+--------------------+------------------+\n",
            "|  count|            27278|               27278|             27278|\n",
            "|   mean|59855.48057042305|                NULL|              NULL|\n",
            "| stddev|44429.31469707313|                NULL|              NULL|\n",
            "|    min|                1|\"\"\"Great Performa...|(no genres listed)|\n",
            "|    max|           131262|       貞子3D (2012)|           Western|\n",
            "+-------+-----------------+--------------------+------------------+\n",
            "\n"
          ]
        }
      ]
    },
    {
      "cell_type": "code",
      "source": [
        "ratingsdf.describe().show()"
      ],
      "metadata": {
        "colab": {
          "base_uri": "https://localhost:8080/"
        },
        "id": "PaEZvLOpVMaA",
        "outputId": "a82e858f-08ad-4499-f32d-54cea352fcea"
      },
      "execution_count": 38,
      "outputs": [
        {
          "output_type": "stream",
          "name": "stdout",
          "text": [
            "+-------+------------------+------------------+------------------+--------------------+\n",
            "|summary|            userId|           movieId|            rating|           timestamp|\n",
            "+-------+------------------+------------------+------------------+--------------------+\n",
            "|  count|           6793292|           6793292|           6793292|             6793292|\n",
            "|   mean| 23230.64994085342| 9084.226516098528|3.5235419734644116|1.1017641420781667E9|\n",
            "| stddev|13523.147886505403|19822.287266354764|  1.05199925965389|1.6244475461904848E8|\n",
            "|    min|                 1|                 1|               0.5|           789652004|\n",
            "|    max|             46743|            131258|               5.0|          1427781797|\n",
            "+-------+------------------+------------------+------------------+--------------------+\n",
            "\n"
          ]
        }
      ]
    },
    {
      "cell_type": "code",
      "source": [
        "spark.sql('''select m.title,count(*) as No_of_rating from moviesdf m\n",
        "join ratingsdf r on m.movieId=r.userId group by m.title order by No_of_rating desc limit 5''').show()"
      ],
      "metadata": {
        "colab": {
          "base_uri": "https://localhost:8080/"
        },
        "id": "XRnnsY4PVS4w",
        "outputId": "0578838b-0c45-4685-d8ed-922de0f5db0a"
      },
      "execution_count": 46,
      "outputs": [
        {
          "output_type": "stream",
          "name": "stdout",
          "text": [
            "+--------------------+------------+\n",
            "|               title|No_of_rating|\n",
            "+--------------------+------------+\n",
            "|Hour of the Wolf ...|        7515|\n",
            "|It's All About Lo...|        4524|\n",
            "|Millennium Mambo ...|        3145|\n",
            "|  Crime Spree (2003)|        3014|\n",
            "|Prince of Central...|        2711|\n",
            "+--------------------+------------+\n",
            "\n"
          ]
        }
      ]
    }
  ]
}