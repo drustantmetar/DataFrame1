{
  "nbformat": 4,
  "nbformat_minor": 0,
  "metadata": {
    "colab": {
      "provenance": [],
      "authorship_tag": "ABX9TyM4QSq/ommjhWRVlVztOTjj",
      "include_colab_link": true
    },
    "kernelspec": {
      "name": "python3",
      "display_name": "Python 3"
    },
    "language_info": {
      "name": "python"
    }
  },
  "cells": [
    {
      "cell_type": "markdown",
      "metadata": {
        "id": "view-in-github",
        "colab_type": "text"
      },
      "source": [
        "<a href=\"https://colab.research.google.com/github/drustantmetar/DataFrame1/blob/main/Dataframe_1_(Practical1).ipynb\" target=\"_parent\"><img src=\"https://colab.research.google.com/assets/colab-badge.svg\" alt=\"Open In Colab\"/></a>"
      ]
    },
    {
      "cell_type": "code",
      "execution_count": null,
      "metadata": {
        "id": "cPOtsRAQaMzi"
      },
      "outputs": [],
      "source": [
        "# load the libraries\n",
        "import pyspark\n",
        "from pyspark.sql import SparkSession\n",
        "from pyspark.sql.functions import *"
      ]
    },
    {
      "cell_type": "code",
      "source": [
        "# create spark session\n",
        "sc : SparkContext = SparkSession\\\n",
        ".builder\\\n",
        ".appName(\"IMDB Analysis\")\\\n",
        ".master('local')\\\n",
        ".getOrCreate()\\\n",
        ".sparkContext"
      ],
      "metadata": {
        "id": "1BKh4iOi6qN5"
      },
      "execution_count": null,
      "outputs": []
    },
    {
      "cell_type": "code",
      "source": [
        "# Import datea\n",
        "#movies=sc.textFile(\"movies.dat\")\n",
        "#from google.colab import files\n",
        "#movies=files.upload()\n"
      ],
      "metadata": {
        "id": "SxfzZjb67ND7",
        "outputId": "ee0d25a4-ee95-415d-a10c-bac8456b240e",
        "colab": {
          "base_uri": "https://localhost:8080/",
          "height": 38
        }
      },
      "execution_count": null,
      "outputs": [
        {
          "output_type": "display_data",
          "data": {
            "text/plain": [
              "<IPython.core.display.HTML object>"
            ],
            "text/html": [
              "\n",
              "     <input type=\"file\" id=\"files-7e0e171b-51c0-423b-bdd3-45593f1569d2\" name=\"files[]\" multiple disabled\n",
              "        style=\"border:none\" />\n",
              "     <output id=\"result-7e0e171b-51c0-423b-bdd3-45593f1569d2\">\n",
              "      Upload widget is only available when the cell has been executed in the\n",
              "      current browser session. Please rerun this cell to enable.\n",
              "      </output>\n",
              "      <script>// Copyright 2017 Google LLC\n",
              "//\n",
              "// Licensed under the Apache License, Version 2.0 (the \"License\");\n",
              "// you may not use this file except in compliance with the License.\n",
              "// You may obtain a copy of the License at\n",
              "//\n",
              "//      http://www.apache.org/licenses/LICENSE-2.0\n",
              "//\n",
              "// Unless required by applicable law or agreed to in writing, software\n",
              "// distributed under the License is distributed on an \"AS IS\" BASIS,\n",
              "// WITHOUT WARRANTIES OR CONDITIONS OF ANY KIND, either express or implied.\n",
              "// See the License for the specific language governing permissions and\n",
              "// limitations under the License.\n",
              "\n",
              "/**\n",
              " * @fileoverview Helpers for google.colab Python module.\n",
              " */\n",
              "(function(scope) {\n",
              "function span(text, styleAttributes = {}) {\n",
              "  const element = document.createElement('span');\n",
              "  element.textContent = text;\n",
              "  for (const key of Object.keys(styleAttributes)) {\n",
              "    element.style[key] = styleAttributes[key];\n",
              "  }\n",
              "  return element;\n",
              "}\n",
              "\n",
              "// Max number of bytes which will be uploaded at a time.\n",
              "const MAX_PAYLOAD_SIZE = 100 * 1024;\n",
              "\n",
              "function _uploadFiles(inputId, outputId) {\n",
              "  const steps = uploadFilesStep(inputId, outputId);\n",
              "  const outputElement = document.getElementById(outputId);\n",
              "  // Cache steps on the outputElement to make it available for the next call\n",
              "  // to uploadFilesContinue from Python.\n",
              "  outputElement.steps = steps;\n",
              "\n",
              "  return _uploadFilesContinue(outputId);\n",
              "}\n",
              "\n",
              "// This is roughly an async generator (not supported in the browser yet),\n",
              "// where there are multiple asynchronous steps and the Python side is going\n",
              "// to poll for completion of each step.\n",
              "// This uses a Promise to block the python side on completion of each step,\n",
              "// then passes the result of the previous step as the input to the next step.\n",
              "function _uploadFilesContinue(outputId) {\n",
              "  const outputElement = document.getElementById(outputId);\n",
              "  const steps = outputElement.steps;\n",
              "\n",
              "  const next = steps.next(outputElement.lastPromiseValue);\n",
              "  return Promise.resolve(next.value.promise).then((value) => {\n",
              "    // Cache the last promise value to make it available to the next\n",
              "    // step of the generator.\n",
              "    outputElement.lastPromiseValue = value;\n",
              "    return next.value.response;\n",
              "  });\n",
              "}\n",
              "\n",
              "/**\n",
              " * Generator function which is called between each async step of the upload\n",
              " * process.\n",
              " * @param {string} inputId Element ID of the input file picker element.\n",
              " * @param {string} outputId Element ID of the output display.\n",
              " * @return {!Iterable<!Object>} Iterable of next steps.\n",
              " */\n",
              "function* uploadFilesStep(inputId, outputId) {\n",
              "  const inputElement = document.getElementById(inputId);\n",
              "  inputElement.disabled = false;\n",
              "\n",
              "  const outputElement = document.getElementById(outputId);\n",
              "  outputElement.innerHTML = '';\n",
              "\n",
              "  const pickedPromise = new Promise((resolve) => {\n",
              "    inputElement.addEventListener('change', (e) => {\n",
              "      resolve(e.target.files);\n",
              "    });\n",
              "  });\n",
              "\n",
              "  const cancel = document.createElement('button');\n",
              "  inputElement.parentElement.appendChild(cancel);\n",
              "  cancel.textContent = 'Cancel upload';\n",
              "  const cancelPromise = new Promise((resolve) => {\n",
              "    cancel.onclick = () => {\n",
              "      resolve(null);\n",
              "    };\n",
              "  });\n",
              "\n",
              "  // Wait for the user to pick the files.\n",
              "  const files = yield {\n",
              "    promise: Promise.race([pickedPromise, cancelPromise]),\n",
              "    response: {\n",
              "      action: 'starting',\n",
              "    }\n",
              "  };\n",
              "\n",
              "  cancel.remove();\n",
              "\n",
              "  // Disable the input element since further picks are not allowed.\n",
              "  inputElement.disabled = true;\n",
              "\n",
              "  if (!files) {\n",
              "    return {\n",
              "      response: {\n",
              "        action: 'complete',\n",
              "      }\n",
              "    };\n",
              "  }\n",
              "\n",
              "  for (const file of files) {\n",
              "    const li = document.createElement('li');\n",
              "    li.append(span(file.name, {fontWeight: 'bold'}));\n",
              "    li.append(span(\n",
              "        `(${file.type || 'n/a'}) - ${file.size} bytes, ` +\n",
              "        `last modified: ${\n",
              "            file.lastModifiedDate ? file.lastModifiedDate.toLocaleDateString() :\n",
              "                                    'n/a'} - `));\n",
              "    const percent = span('0% done');\n",
              "    li.appendChild(percent);\n",
              "\n",
              "    outputElement.appendChild(li);\n",
              "\n",
              "    const fileDataPromise = new Promise((resolve) => {\n",
              "      const reader = new FileReader();\n",
              "      reader.onload = (e) => {\n",
              "        resolve(e.target.result);\n",
              "      };\n",
              "      reader.readAsArrayBuffer(file);\n",
              "    });\n",
              "    // Wait for the data to be ready.\n",
              "    let fileData = yield {\n",
              "      promise: fileDataPromise,\n",
              "      response: {\n",
              "        action: 'continue',\n",
              "      }\n",
              "    };\n",
              "\n",
              "    // Use a chunked sending to avoid message size limits. See b/62115660.\n",
              "    let position = 0;\n",
              "    do {\n",
              "      const length = Math.min(fileData.byteLength - position, MAX_PAYLOAD_SIZE);\n",
              "      const chunk = new Uint8Array(fileData, position, length);\n",
              "      position += length;\n",
              "\n",
              "      const base64 = btoa(String.fromCharCode.apply(null, chunk));\n",
              "      yield {\n",
              "        response: {\n",
              "          action: 'append',\n",
              "          file: file.name,\n",
              "          data: base64,\n",
              "        },\n",
              "      };\n",
              "\n",
              "      let percentDone = fileData.byteLength === 0 ?\n",
              "          100 :\n",
              "          Math.round((position / fileData.byteLength) * 100);\n",
              "      percent.textContent = `${percentDone}% done`;\n",
              "\n",
              "    } while (position < fileData.byteLength);\n",
              "  }\n",
              "\n",
              "  // All done.\n",
              "  yield {\n",
              "    response: {\n",
              "      action: 'complete',\n",
              "    }\n",
              "  };\n",
              "}\n",
              "\n",
              "scope.google = scope.google || {};\n",
              "scope.google.colab = scope.google.colab || {};\n",
              "scope.google.colab._files = {\n",
              "  _uploadFiles,\n",
              "  _uploadFilesContinue,\n",
              "};\n",
              "})(self);\n",
              "</script> "
            ]
          },
          "metadata": {}
        }
      ]
    },
    {
      "cell_type": "code",
      "source": [
        "# Create Rdd\n",
        "movies=sc.textFile(\"/content/movies.dat\");\n",
        "rating=sc.textFile(\"/content/ratings.dat\")"
      ],
      "metadata": {
        "id": "_DscISXC7XZ7"
      },
      "execution_count": 56,
      "outputs": []
    },
    {
      "cell_type": "code",
      "source": [
        "# split the string with double ::\n",
        "def splitString(myfile):\n",
        "  return myfile.split(\"::\",4)"
      ],
      "metadata": {
        "id": "p-wv14sb7L8Y"
      },
      "execution_count": 57,
      "outputs": []
    },
    {
      "cell_type": "code",
      "source": [
        "movies=sc.textFile(\"movies.dat\").map(splitString);\n",
        "rating=sc.textFile(\"ratings.dat\").map(splitString)"
      ],
      "metadata": {
        "id": "PhZqygDC7-4_"
      },
      "execution_count": 61,
      "outputs": []
    },
    {
      "cell_type": "markdown",
      "source": [
        "Display text from datea sets"
      ],
      "metadata": {
        "id": "M635Ekif9NnD"
      }
    },
    {
      "cell_type": "code",
      "source": [
        "movies.take(3)"
      ],
      "metadata": {
        "id": "Rihful9-87Uy",
        "colab": {
          "base_uri": "https://localhost:8080/"
        },
        "outputId": "edf56339-511f-425c-b732-360e800371b6"
      },
      "execution_count": 59,
      "outputs": [
        {
          "output_type": "execute_result",
          "data": {
            "text/plain": [
              "[['1', 'Toy Story (1995)', \"Animation|Children's|Comedy\"],\n",
              " ['2', 'Jumanji (1995)', \"Adventure|Children's|Fantasy\"],\n",
              " ['3', 'Grumpier Old Men (1995)', 'Comedy|Romance']]"
            ]
          },
          "metadata": {},
          "execution_count": 59
        }
      ]
    },
    {
      "cell_type": "code",
      "source": [
        "rating.take(3)"
      ],
      "metadata": {
        "id": "LnUKe40g9HVP",
        "colab": {
          "base_uri": "https://localhost:8080/"
        },
        "outputId": "d3c46881-ea78-4112-f25b-b26587bd2878"
      },
      "execution_count": 60,
      "outputs": [
        {
          "output_type": "execute_result",
          "data": {
            "text/plain": [
              "[['1', '1193', '5', '978300760'],\n",
              " ['1', '661', '3', '978302109'],\n",
              " ['1', '914', '3', '978301968']]"
            ]
          },
          "metadata": {},
          "execution_count": 60
        }
      ]
    },
    {
      "cell_type": "code",
      "source": [
        "# Join the Rdd\n",
        "joinRdd=movies.keyBy(lambda k : k[0]).join(rating.keyBy(lambda k: k[1]))"
      ],
      "metadata": {
        "id": "CGEbDvSjYHxF"
      },
      "execution_count": 62,
      "outputs": []
    },
    {
      "cell_type": "code",
      "source": [
        "joinRdd.take(3)"
      ],
      "metadata": {
        "id": "JR7ni0maYZ9K",
        "outputId": "864a535a-37dc-4117-d0af-b96ff41bebe4",
        "colab": {
          "base_uri": "https://localhost:8080/"
        }
      },
      "execution_count": 63,
      "outputs": [
        {
          "output_type": "execute_result",
          "data": {
            "text/plain": [
              "[('3',\n",
              "  (['3', 'Grumpier Old Men (1995)', 'Comedy|Romance'],\n",
              "   ['26', '3', '2', '978140022'])),\n",
              " ('3',\n",
              "  (['3', 'Grumpier Old Men (1995)', 'Comedy|Romance'],\n",
              "   ['45', '3', '2', '977989159'])),\n",
              " ('3',\n",
              "  (['3', 'Grumpier Old Men (1995)', 'Comedy|Romance'],\n",
              "   ['62', '3', '3', '977904968']))]"
            ]
          },
          "metadata": {},
          "execution_count": 63
        }
      ]
    },
    {
      "cell_type": "code",
      "source": [
        "#we need to get the movie names\n",
        "# Explanation\n",
        "'''\n",
        "x=\t\t[('5',  (['5', 'Father of the Bride Part II (1995)', 'Comedy'],   ['26', '5', '5', '978144881'])),\n",
        "\t\t('5',  (['5', 'Father of the Bride Part II (1995)', 'Comedy'],   ['48', '5', '3', '978013996'])),\n",
        "\t\t('5',  (['5', 'Father of the Bride Part II (1995)', 'Comedy'],   ['155', '5', '2', '977256084']))]\n",
        " =======================\n",
        "\t\t['5', 'Father of the Bride Part II (1995)', 'Comedy'],   ['26', '5', '5', '978144881']\n",
        " x[1]=[movie_data , ratings_data]\n",
        "x[1][0]= movie_data   -> '5', 'Father of the Bride Part II (1995)', 'Comedy'\n",
        "x[1][0][1]= 'Father of the Bride Part II (1995)'\n",
        "\n",
        "'''\n",
        "finalRdd=joinRdd.groupBy(lambda gbk : gbk[1][0][1])\n",
        "finalRdd.take(3)\n",
        "# It return movie name with some value with its so we need to take the length of that value"
      ],
      "metadata": {
        "id": "qBfi8n81Yf-Q",
        "outputId": "3a023d66-e133-446c-9dd1-5ef6b991aebf",
        "colab": {
          "base_uri": "https://localhost:8080/"
        }
      },
      "execution_count": 67,
      "outputs": [
        {
          "output_type": "execute_result",
          "data": {
            "text/plain": [
              "[('Father of the Bride Part II (1995)',\n",
              "  <pyspark.resultiterable.ResultIterable at 0x7da8a5955850>),\n",
              " ('Heat (1995)', <pyspark.resultiterable.ResultIterable at 0x7da8a5cb5d50>),\n",
              " ('GoldenEye (1995)',\n",
              "  <pyspark.resultiterable.ResultIterable at 0x7da8a5cb1050>)]"
            ]
          },
          "metadata": {},
          "execution_count": 67
        }
      ]
    },
    {
      "cell_type": "code",
      "source": [
        "myRdd=finalRdd.map(lambda e : (e[0],len(e[1])))\n",
        "myRdd.take(3)"
      ],
      "metadata": {
        "id": "IGd4ZmhCbHPz",
        "outputId": "670fe341-663f-438a-fb62-af12481a1cc9",
        "colab": {
          "base_uri": "https://localhost:8080/"
        }
      },
      "execution_count": 71,
      "outputs": [
        {
          "output_type": "execute_result",
          "data": {
            "text/plain": [
              "[('Father of the Bride Part II (1995)', 296),\n",
              " ('Heat (1995)', 940),\n",
              " ('GoldenEye (1995)', 888)]"
            ]
          },
          "metadata": {},
          "execution_count": 71
        }
      ]
    }
  ]
}