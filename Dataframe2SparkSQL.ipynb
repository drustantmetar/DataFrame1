{
  "cells": [
    {
      "cell_type": "markdown",
      "metadata": {
        "id": "view-in-github",
        "colab_type": "text"
      },
      "source": [
        "<a href=\"https://colab.research.google.com/github/drustantmetar/DataFrame1/blob/main/Dataframe2SparkSQL.ipynb\" target=\"_parent\"><img src=\"https://colab.research.google.com/assets/colab-badge.svg\" alt=\"Open In Colab\"/></a>"
      ]
    },
    {
      "cell_type": "code",
      "execution_count": 36,
      "metadata": {
        "id": "qEVNbV8I3FNw"
      },
      "outputs": [],
      "source": [
        "# load the libraries\n",
        "import pyspark\n",
        "from pyspark.sql import SparkSession\n",
        "from pyspark.sql.functions import *\n",
        "from pyspark.sql.types import IntegerType,StringType,StructType,StructField,DoubleType"
      ]
    },
    {
      "cell_type": "code",
      "execution_count": 2,
      "metadata": {
        "id": "-adSci464n7D"
      },
      "outputs": [],
      "source": [
        "# create spark session\n",
        "spark= SparkSession\\\n",
        ".builder\\\n",
        ".master(\"local\")\\\n",
        ".appName(\"Data Frame 2\")\\\n",
        ".getOrCreate()"
      ]
    },
    {
      "cell_type": "code",
      "execution_count": 4,
      "metadata": {
        "id": "yicDn--A5BJH"
      },
      "outputs": [],
      "source": [
        "# get the data from data source to crete Data Frame for DSL : Domain Specific langauge\n",
        "moviesdf=spark.read.format(\"csv\").option(\"inferschema\",\"true\").option(\"header\",\"true\").load(\"/content/movies.csv\")\n",
        "ratingsdf=spark.read.format(\"csv\").option(\"inferschema\",\"true\").option(\"header\",\"true\").load(\"/content/ratings.csv\")"
      ]
    },
    {
      "cell_type": "code",
      "execution_count": 6,
      "metadata": {
        "colab": {
          "base_uri": "https://localhost:8080/"
        },
        "id": "rs48nJTO5jKo",
        "outputId": "320fd23e-673a-4dfc-b585-9789b82f70e1"
      },
      "outputs": [
        {
          "output_type": "stream",
          "name": "stdout",
          "text": [
            "movie data frame schema\n",
            "root\n",
            " |-- movieId: integer (nullable = true)\n",
            " |-- title: string (nullable = true)\n",
            " |-- genres: string (nullable = true)\n",
            "\n",
            "ratigns data frame schema\n",
            "root\n",
            " |-- userId: integer (nullable = true)\n",
            " |-- movieId: integer (nullable = true)\n",
            " |-- rating: double (nullable = true)\n",
            " |-- timestamp: integer (nullable = true)\n",
            "\n"
          ]
        }
      ],
      "source": [
        "print(\"movie data frame schema\")\n",
        "moviesdf.printSchema()\n",
        "print(\"ratigns data frame schema\")\n",
        "ratingsdf.printSchema()"
      ]
    },
    {
      "cell_type": "code",
      "source": [
        "moviesdf.schema"
      ],
      "metadata": {
        "colab": {
          "base_uri": "https://localhost:8080/"
        },
        "id": "mcyd8qEX9VrJ",
        "outputId": "93574319-7cc5-46b7-e20a-a26561fa931b"
      },
      "execution_count": 9,
      "outputs": [
        {
          "output_type": "execute_result",
          "data": {
            "text/plain": [
              "StructType([StructField('movieId', IntegerType(), True), StructField('title', StringType(), True), StructField('genres', StringType(), True)])"
            ]
          },
          "metadata": {},
          "execution_count": 9
        }
      ]
    },
    {
      "cell_type": "code",
      "source": [
        "ratingsdf.schema"
      ],
      "metadata": {
        "colab": {
          "base_uri": "https://localhost:8080/"
        },
        "id": "7FXmVbL7-4_S",
        "outputId": "6a95897d-636b-4d2b-872f-a1f9d87789d1"
      },
      "execution_count": 12,
      "outputs": [
        {
          "output_type": "execute_result",
          "data": {
            "text/plain": [
              "StructType([StructField('userId', IntegerType(), True), StructField('movieId', IntegerType(), True), StructField('rating', DoubleType(), True), StructField('timestamp', IntegerType(), True)])"
            ]
          },
          "metadata": {},
          "execution_count": 12
        }
      ]
    },
    {
      "cell_type": "code",
      "source": [
        "# To create our own schema for movie data frame\n",
        "movieschema =  StructType(\n",
        " [\n",
        "\tStructField('movieId', IntegerType(), True),\n",
        "\tStructField('title', StringType(), True),\n",
        "\tStructField('genres', StringType(), True)\n",
        " ]\n",
        " )"
      ],
      "metadata": {
        "id": "zqgQ3tif_7uB"
      },
      "execution_count": 21,
      "outputs": []
    },
    {
      "cell_type": "code",
      "source": [
        "# To use this created schema into our created data frame\n",
        "moviesdf=spark.read.format(\"csv\").schema(movieschema).option(\"inferschema\",\"true\").load(\"/content/movies.csv\")"
      ],
      "metadata": {
        "id": "ASQ9OGPjAmd-"
      },
      "execution_count": 30,
      "outputs": []
    },
    {
      "cell_type": "code",
      "source": [
        "moviesdf.schema"
      ],
      "metadata": {
        "colab": {
          "base_uri": "https://localhost:8080/"
        },
        "id": "UBCFfOXCBWdT",
        "outputId": "9277c671-211c-4e5e-9fa6-3d34afa7cea3"
      },
      "execution_count": 27,
      "outputs": [
        {
          "output_type": "execute_result",
          "data": {
            "text/plain": [
              "StructType([StructField('movieId', IntegerType(), True), StructField('title', StringType(), True), StructField('genres', StringType(), True)])"
            ]
          },
          "metadata": {},
          "execution_count": 27
        }
      ]
    },
    {
      "cell_type": "code",
      "source": [
        "moviesdf.printSchema()"
      ],
      "metadata": {
        "colab": {
          "base_uri": "https://localhost:8080/"
        },
        "id": "PTA0qnyYBbJM",
        "outputId": "214455c6-7801-4338-a1b0-3ea12b18e81c"
      },
      "execution_count": 32,
      "outputs": [
        {
          "output_type": "stream",
          "name": "stdout",
          "text": [
            "root\n",
            " |-- movieId: integer (nullable = true)\n",
            " |-- title: string (nullable = true)\n",
            " |-- genres: string (nullable = true)\n",
            "\n"
          ]
        }
      ]
    },
    {
      "cell_type": "code",
      "source": [
        "# To create own schema for rating data frame\n",
        "ratingsdf.schema"
      ],
      "metadata": {
        "colab": {
          "base_uri": "https://localhost:8080/"
        },
        "id": "GpOIHLkHBvjU",
        "outputId": "9cd30e2c-c67f-4a39-ff60-6cd88e8d23c5"
      },
      "execution_count": 33,
      "outputs": [
        {
          "output_type": "execute_result",
          "data": {
            "text/plain": [
              "StructType([StructField('userId', IntegerType(), True), StructField('movieId', IntegerType(), True), StructField('rating', DoubleType(), True), StructField('timestamp', IntegerType(), True)])"
            ]
          },
          "metadata": {},
          "execution_count": 33
        }
      ]
    },
    {
      "cell_type": "code",
      "source": [
        "ratingschema= StructType(\n",
        "   [\n",
        "   StructField('userId', IntegerType(), True),\n",
        "   StructField('movieId', IntegerType(), True),\n",
        "   StructField('rating', DoubleType(), True),\n",
        "   StructField('timestamp', IntegerType(), True)\n",
        "   ]\n",
        "   )\n",
        ""
      ],
      "metadata": {
        "id": "a0OZNQmCCIeE"
      },
      "execution_count": 37,
      "outputs": []
    },
    {
      "cell_type": "code",
      "source": [
        "# add the rating schema into the ratings schema\n",
        "ratingsdf=spark.read.format(\"csv\").schema(ratingschema).load(\"/content/ratings.csv\")"
      ],
      "metadata": {
        "id": "sXDNSn85ClRu"
      },
      "execution_count": 58,
      "outputs": []
    },
    {
      "cell_type": "code",
      "source": [
        "ratingsdf.schema"
      ],
      "metadata": {
        "colab": {
          "base_uri": "https://localhost:8080/"
        },
        "id": "madwaeGvCy_0",
        "outputId": "f1440d8c-ba80-4de8-8cbc-690116952375"
      },
      "execution_count": 59,
      "outputs": [
        {
          "output_type": "execute_result",
          "data": {
            "text/plain": [
              "StructType([StructField('userId', IntegerType(), True), StructField('movieId', IntegerType(), True), StructField('rating', DoubleType(), True), StructField('timestamp', IntegerType(), True)])"
            ]
          },
          "metadata": {},
          "execution_count": 59
        }
      ]
    },
    {
      "cell_type": "code",
      "source": [
        "ratingsdf.printSchema()"
      ],
      "metadata": {
        "colab": {
          "base_uri": "https://localhost:8080/"
        },
        "id": "BjSxFqqCC39v",
        "outputId": "cb565334-f65e-4be1-a63d-47ff4c536421"
      },
      "execution_count": 60,
      "outputs": [
        {
          "output_type": "stream",
          "name": "stdout",
          "text": [
            "root\n",
            " |-- userId: integer (nullable = true)\n",
            " |-- movieId: integer (nullable = true)\n",
            " |-- rating: double (nullable = true)\n",
            " |-- timestamp: integer (nullable = true)\n",
            "\n"
          ]
        }
      ]
    },
    {
      "cell_type": "code",
      "source": [
        "movieFilterdf=moviesdf.filter(\"genres == 'Comedy'\")"
      ],
      "metadata": {
        "id": "yGma-fN8Ezsd"
      },
      "execution_count": 61,
      "outputs": []
    },
    {
      "cell_type": "code",
      "source": [
        "joindf=movieFilterdf.join(ratingsdf, on= \"movieId\")\n"
      ],
      "metadata": {
        "id": "LZ_BxMMaGu3D"
      },
      "execution_count": 69,
      "outputs": []
    },
    {
      "cell_type": "code",
      "source": [
        "joindf.groupBy(\"title\").agg(count(\"*\").alias(\"Count of Rating\")).orderBy(col(\"Count of Rating\").desc()).show(10)"
      ],
      "metadata": {
        "colab": {
          "base_uri": "https://localhost:8080/"
        },
        "id": "NiXlHwr1HRY7",
        "outputId": "c96e820d-36ae-4552-9553-8b8015925fac"
      },
      "execution_count": 82,
      "outputs": [
        {
          "output_type": "stream",
          "name": "stdout",
          "text": [
            "+--------------------+---------------+\n",
            "|               title|Count of Rating|\n",
            "+--------------------+---------------+\n",
            "|Ace Ventura: Pet ...|          28483|\n",
            "|       Clerks (1994)|          17713|\n",
            "|Ferris Bueller's ...|          17341|\n",
            "|Birdcage, The (1996)|          16477|\n",
            "|Ace Ventura: When...|          15613|\n",
            "|Monty Python's Li...|          15397|\n",
            "|    Airplane! (1980)|          14129|\n",
            "|Happy Gilmore (1996)|          13382|\n",
            "|    Liar Liar (1997)|          12633|\n",
            "|This Is Spinal Ta...|          12049|\n",
            "+--------------------+---------------+\n",
            "only showing top 10 rows\n",
            "\n"
          ]
        }
      ]
    },
    {
      "cell_type": "code",
      "source": [
        "moviesdf.printSchema()\n",
        "ratingsdf.printSchema()"
      ],
      "metadata": {
        "colab": {
          "base_uri": "https://localhost:8080/"
        },
        "id": "GFfujJssNPww",
        "outputId": "97691a19-f56f-4694-cd98-c43457806490"
      },
      "execution_count": 85,
      "outputs": [
        {
          "output_type": "stream",
          "name": "stdout",
          "text": [
            "root\n",
            " |-- movieId: integer (nullable = true)\n",
            " |-- title: string (nullable = true)\n",
            " |-- genres: string (nullable = true)\n",
            "\n",
            "root\n",
            " |-- userId: integer (nullable = true)\n",
            " |-- movieId: integer (nullable = true)\n",
            " |-- rating: double (nullable = true)\n",
            " |-- timestamp: integer (nullable = true)\n",
            "\n"
          ]
        }
      ]
    },
    {
      "cell_type": "markdown",
      "source": [
        "**Below Code which is written in single line**"
      ],
      "metadata": {
        "id": "8c2kfvAVOyd8"
      }
    },
    {
      "cell_type": "code",
      "source": [
        "moviesdf.filter(\"genres == 'Comedy'\").join(ratingsdf, on=\"movieId\").groupBy(\"title\").agg(count(\"*\").alias(\"Count of Rating\")).orderBy(col(\"Count of Rating\").desc()).show(10)"
      ],
      "metadata": {
        "colab": {
          "base_uri": "https://localhost:8080/"
        },
        "id": "7CNH64HXNbM_",
        "outputId": "ef5f72a2-d911-48ce-fb99-b7d38f0bb7c9"
      },
      "execution_count": 94,
      "outputs": [
        {
          "output_type": "stream",
          "name": "stdout",
          "text": [
            "+--------------------+---------------+\n",
            "|               title|Count of Rating|\n",
            "+--------------------+---------------+\n",
            "|Ace Ventura: Pet ...|          28483|\n",
            "|       Clerks (1994)|          17713|\n",
            "|Ferris Bueller's ...|          17341|\n",
            "|Birdcage, The (1996)|          16477|\n",
            "|Ace Ventura: When...|          15613|\n",
            "|Monty Python's Li...|          15397|\n",
            "|    Airplane! (1980)|          14129|\n",
            "|Happy Gilmore (1996)|          13382|\n",
            "|    Liar Liar (1997)|          12633|\n",
            "|This Is Spinal Ta...|          12049|\n",
            "+--------------------+---------------+\n",
            "only showing top 10 rows\n",
            "\n"
          ]
        }
      ]
    }
  ],
  "metadata": {
    "colab": {
      "provenance": [],
      "authorship_tag": "ABX9TyMD5pgEg7NEZwmVQ19hZcY8",
      "include_colab_link": true
    },
    "kernelspec": {
      "display_name": "Python 3",
      "name": "python3"
    },
    "language_info": {
      "name": "python"
    }
  },
  "nbformat": 4,
  "nbformat_minor": 0
}